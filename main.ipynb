{
 "cells": [
  {
   "cell_type": "code",
   "execution_count": 1,
   "metadata": {},
   "outputs": [
    {
     "name": "stdout",
     "output_type": "stream",
     "text": [
      "entering autor config\n",
      "finished config for autor\n",
      "entering clientes config\n",
      "finished config for clientes\n",
      "entering libros config\n",
      "finished config for libros\n",
      "entering prestamo config\n",
      "finished config for prestamo\n",
      "entering prestamo copia\n",
      "finished config for copia\n",
      "entering copia_por_prestamo config\n",
      "finished config for copia_por_prestamo\n",
      "iniciando\n",
      "finalizando\n"
     ]
    }
   ],
   "source": [
    "from dao import Biblioteca\n",
    "\n",
    "data = Biblioteca()\n"
   ]
  },
  {
   "cell_type": "code",
   "execution_count": null,
   "metadata": {},
   "outputs": [],
   "source": []
  },
  {
   "cell_type": "code",
   "execution_count": 2,
   "metadata": {},
   "outputs": [
    {
     "name": "stdout",
     "output_type": "stream",
     "text": [
      "Id |    Nombre     |  Apellido  |    DNI     | Fecha_Nacimiento | Nacionalidad\n",
      "\n",
      "\n",
      "1  | Arthur Conan  |   Doyle    |   413548   |    22-05-1859    | Britanico \n",
      "2  |   George RR   |   Martin   |  1245693   |    22-09-1948    | Britanico \n",
      "3  |  Jorge Luis   |   Borges   |  16458713  |    24-08-1899    | Argentino \n"
     ]
    }
   ],
   "source": [
    "# Autores/ consulta de todos los datos de la tabla autores\n",
    "\n",
    "def get_format_autores(autores):\n",
    "    print(\"{:^2} | {:^13} | {:^10} | {:^10} | {:^10} | {:^10}\".format(\"Id\", \"Nombre\", \"Apellido\", \"DNI\", \"Fecha_Nacimiento\", \"Nacionalidad\"))\n",
    "\n",
    "    print(\"\\n\")\n",
    "\n",
    "    for autor in autores:\n",
    "        print(\"{:^2} | {:^13} | {:^10} | {:^10} |    {:%d-%m-%Y}    | {:^10}\".format(autor.id_autor, autor.nombre, autor.apellido, autor.dni, autor.fecha_nacimiento, autor.nacionalidad))\n",
    "\n",
    "        \n",
    "\n",
    "autores = data.get_autores()\n",
    "get_format_autores(autores)\n",
    "\n",
    "\n"
   ]
  },
  {
   "cell_type": "code",
   "execution_count": null,
   "metadata": {},
   "outputs": [],
   "source": []
  },
  {
   "cell_type": "code",
   "execution_count": 3,
   "metadata": {},
   "outputs": [
    {
     "name": "stdout",
     "output_type": "stream",
     "text": [
      "Id |    Nombre     |  Apellido  |   DNI    |      Direccion       |   Celular  |   Email   \n",
      "\n",
      "\n",
      "1  |   Cristian    |  Palacios  | 39700483 | San Francisco n 329  | 3825665796 | cp@gmail.com\n",
      "2  |    Franco     |  Cardozo   | 39712483 |   Calle falsa 123    | 3825667898 | fracing@gmail.com\n",
      "3  |     Diego     |  Estrada   | 95135001 |  221B Baker Street   | 3825664499 | destrada@gmail.com\n",
      "4  |   Santiago    |  Chanampe  | 12456789 |   Santo Domingo 21   | 3804559966 | champi@gmail.com\n"
     ]
    }
   ],
   "source": [
    "# Clientes/ consulta de todos los datos de la tabla clientes\n",
    "\n",
    "def get_format_clientes(clientes):\n",
    "    print(\"{:^2} | {:^13} | {:^10} | {:^8} | {:^20} | {:^11}| {:^10}\".format(\"Id\", \"Nombre\", \"Apellido\", \"DNI\", \"Direccion\", \"Celular\", \"Email\"))\n",
    "\n",
    "    print(\"\\n\")\n",
    "\n",
    "    for cliente in clientes:\n",
    "        print(\"{:^2} | {:^13} | {:^10} | {:^8} | {:^20} | {:^11}| {:^10}\".format(cliente.id_cliente, cliente.nombre, cliente.apellido, cliente.dni, cliente.direccion, cliente.celular, cliente.email))\n",
    "\n",
    "\n",
    "clientes = data.get_clientes()\n",
    "get_format_clientes(clientes)\n",
    "\n",
    "# print(clientes)\n",
    "\n"
   ]
  },
  {
   "cell_type": "code",
   "execution_count": null,
   "metadata": {},
   "outputs": [],
   "source": []
  },
  {
   "cell_type": "code",
   "execution_count": 4,
   "metadata": {},
   "outputs": [
    {
     "name": "stdout",
     "output_type": "stream",
     "text": [
      "Id |        Titulo        | Anio Publicacion |    Editorial    |   Genero   | Cantidad paginas|  Id Autor \n",
      "\n",
      "\n",
      "1  |  A Game of Thrones  |     05-09-1996    |  Bantam Books   |   Novela   |       1024      |     2     \n",
      "2  |  A Study in Scarlet |     05-09-1987    |  Ward Look CO   |   Novela   |       350       |     1     \n",
      "3  |   A Clash of Kings  |     16-11-1998    |  Bantam Books   |   Novela   |       761       |     2     \n",
      "4  |  A Storm of Swords  |     08-08-2000    |  Bantam Books   |   Novela   |       973       |     2     \n",
      "5  |  A Feast for Crows  |     17-10-2005    |  Bantam Books   |   Novela   |       753       |     2     \n",
      "6  | A Dance with Dragons|     12-07-2011    |  Bantam Books   |   Novela   |       1016      |     2     \n",
      "7  | The Sing of the Four|     05-09-1890    | Lippincott Magazine |   Novela   |       400       |     1     \n",
      "8  |   Luna de enfrente  |     15-07-1925    | Editorial Proa  |   Poesia   |        42       |     3     \n",
      "9  | Fervor de Buenos Aires|     04-08-1923    | Imprenta Serrantes |   Poesia   |        64       |     3     \n"
     ]
    }
   ],
   "source": [
    "# Libros/ consulta de todos los datos de la tabla libros\n",
    "\n",
    "def get_format_libros(libros):\n",
    "    print(\"{:^2} | {:^20} | {:^10} | {:^15} | {:^10} | {:^16}| {:^10}\".format(\"Id\", \"Titulo\", \"Anio Publicacion\", \"Editorial\", \"Genero\", \"Cantidad paginas\", \"Id Autor\"))\n",
    "\n",
    "    print(\"\\n\")\n",
    "\n",
    "    for libro in libros:\n",
    "        print(\"{:^2} | {:^20}|     {:%d-%m-%Y}    | {:^15} | {:^10} | {:^16}| {:^10}\".format(libro.id_libro, libro.titulo, libro.anio_publicacion, libro.editorial, libro.genero, libro.catidad_paginas, libro.id_autor))\n",
    "\n",
    "\n",
    "libros = data.get_libros()\n",
    "\n",
    "get_format_libros(libros)\n",
    "\n",
    "# print(libros)\n",
    "\n"
   ]
  },
  {
   "cell_type": "code",
   "execution_count": null,
   "metadata": {},
   "outputs": [],
   "source": []
  },
  {
   "cell_type": "code",
   "execution_count": 5,
   "metadata": {},
   "outputs": [
    {
     "name": "stdout",
     "output_type": "stream",
     "text": [
      "Id | Fecha Inicio Prestamo| Fecha Fin Prestamo|        Descripcion        |   Estado  | Id Cliente\n",
      "\n",
      "\n",
      "1  |      19-10-2021      |       ------      | Observacion sin problemas|     P     |     1     \n",
      "2  |      19-10-2021      |    21-10-2021     | Observacion sin problemas|     F     |     1     \n",
      "3  |      21-10-2021      |    23-10-2021     | Observacion sin problemas|     F     |     2     \n",
      "4  |      21-10-2021      |    23-10-2021     | Observacion sin problemas|     F     |     3     \n",
      "5  |      21-10-2021      |       ------      | Observacion sin problemas|     P     |     3     \n",
      "6  |      10-10-2021      |    15-10-2021     | Observacion sin problemas|     F     |     4     \n",
      "7  |      01-10-2021      |    05-10-2021     | Observacion sin problemas|     F     |     4     \n",
      "8  |      01-11-2021      |    05-11-2021     | Observacion sin problemas|     F     |     4     \n",
      "9  |      02-11-2021      |    04-11-2021     | Observacion sin problemas|     F     |     4     \n"
     ]
    }
   ],
   "source": [
    "# Prestamo/ consulta de todos los datos de la tabla prestamos\n",
    "\n",
    "def get_format_prestamo(prestamos):\n",
    "    print(\"{:^2} | {:^13}| {:^13}| {:^26}| {:^10}| {:^10}\".format(\"Id\", \"Fecha Inicio Prestamo\", \"Fecha Fin Prestamo\", \"Descripcion\", \"Estado\", \"Id Cliente\"))\n",
    "\n",
    "    print(\"\\n\")\n",
    "    estado=\"------\"\n",
    "    for prestamo in prestamos:\n",
    "        \n",
    "        if(prestamo.fecha_fin_prestamo is None):\n",
    "            print(\"{:^2} |      {:%d-%m-%Y}      | {:^18}| {:^10}| {:^10}| {:^10}\".format(prestamo.id_prestamo, prestamo.fecha_inicio_prestamo, estado, prestamo.descripcion, prestamo.estado, prestamo.id_cliente))\n",
    "        else:\n",
    "            print(\"{:^2} |      {:%d-%m-%Y}      |    {:%d-%m-%Y}     | {:^10}| {:^10}| {:^10}\".format(prestamo.id_prestamo, prestamo.fecha_inicio_prestamo, prestamo.fecha_fin_prestamo, prestamo.descripcion, prestamo.estado, prestamo.id_cliente))\n",
    "\n",
    "\n",
    "prestamos = data.get_prestamos()\n",
    "\n",
    "get_format_prestamo(prestamos)\n",
    "# print(prestamos)\n"
   ]
  },
  {
   "cell_type": "code",
   "execution_count": null,
   "metadata": {},
   "outputs": [],
   "source": []
  },
  {
   "cell_type": "code",
   "execution_count": 6,
   "metadata": {},
   "outputs": [
    {
     "name": "stdout",
     "output_type": "stream",
     "text": [
      "Id | Codigo Copia  |   Estado   |  Id Libro |\n",
      "\n",
      "\n",
      "1  |      25       |     D      |     1     |\n",
      "2  |      41       |     D      |     2     |\n",
      "3  |      42       |     D      |     2     |\n",
      "4  |      10       |     D      |     3     |\n",
      "5  |      11       |     O      |     3     |\n",
      "6  |      30       |     D      |     5     |\n",
      "7  |      31       |     D      |     5     |\n",
      "8  |      70       |     D      |     9     |\n",
      "9  |      71       |     D      |     9     |\n",
      "10 |      60       |     D      |     8     |\n"
     ]
    }
   ],
   "source": [
    "# Copia/ consulta de todos los datos de la tabla copia\n",
    "\n",
    "def get_format_copia(copias):\n",
    "    print(\"{:^2} | {:^13} | {:^10} | {:^10}|\".format(\"Id\", \"Codigo Copia\", \"Estado\", \"Id Libro\"))\n",
    "\n",
    "    print(\"\\n\")\n",
    "\n",
    "    for copia in copias:\n",
    "        print(\"{:^2} | {:^13} | {:^10} | {:^10}|\".format(copia.id_copia, copia.codigo_copia, copia.estado, copia.id_libro))\n",
    "\n",
    "\n",
    "copias = data.get_copias()\n",
    "\n",
    "get_format_copia(copias)\n",
    "# print(copia)\n"
   ]
  },
  {
   "cell_type": "code",
   "execution_count": null,
   "metadata": {},
   "outputs": [],
   "source": []
  },
  {
   "cell_type": "code",
   "execution_count": 7,
   "metadata": {},
   "outputs": [
    {
     "name": "stdout",
     "output_type": "stream",
     "text": [
      "Id Prestamo |  Id Copia  | Cantidad de copias | Descripcion|\n",
      "\n",
      "\n",
      "     4      |      4      |         1          |   -------  |\n",
      "     4      |      5      |         1          |   -------  |\n",
      "     4      |      6      |         2          |   -------  |\n"
     ]
    }
   ],
   "source": [
    "# Copia por prestamo/ / consulta de todos los datos de la tabla copia por prestamo\n",
    "\n",
    "def get_format_copia_por_prestamo(ccp):\n",
    "    print(\"{:^7} | {:^10} | {:^13} | {:^10}|\".format(\"Id Prestamo\",\"Id Copia\", \"Cantidad de copias\", \"Descripcion\"))\n",
    "\n",
    "    print(\"\\n\")\n",
    "\n",
    "    descripcion = \"-------\"\n",
    "    for cp in ccp:\n",
    "        if(cp.descripcion is None):\n",
    "            print(\"{:^11} | {:^11} | {:^18} | {:^11}|\".format(cp.id_prestamo, cp.id_copia, cp.cantidad_copias, descripcion))\n",
    "        else:\n",
    "            print(\"{:^11} | {:^11} | {:^18} | {:^111}|\".format(cp.id_prestamo, cp.id_copia, cp.cantidad_copias, cp.descripcion))\n",
    "\n",
    "\n",
    "cpp = data.get_copias_por_prestamos(id_prestamo=4)\n",
    "\n",
    "get_format_copia_por_prestamo(cpp)\n",
    "\n",
    "# print(cpp)\n",
    "\n"
   ]
  },
  {
   "cell_type": "code",
   "execution_count": null,
   "metadata": {},
   "outputs": [],
   "source": []
  },
  {
   "cell_type": "code",
   "execution_count": 8,
   "metadata": {},
   "outputs": [
    {
     "name": "stdout",
     "output_type": "stream",
     "text": [
      "Id Autor | Id Libro |        Titulo        | Anio Publicacion |    Editorial    |   Genero   | Cantidad paginas\n",
      "\n",
      "\n",
      "   2     |    1     |   A Game of Thrones  |     05-09-1996   |  Bantam Books   |   Novela   |       1024      \n",
      "   2     |    3     |   A Clash of Kings   |     16-11-1998   |  Bantam Books   |   Novela   |       761       \n",
      "   2     |    4     |   A Storm of Swords  |     08-08-2000   |  Bantam Books   |   Novela   |       973       \n",
      "   2     |    5     |   A Feast for Crows  |     17-10-2005   |  Bantam Books   |   Novela   |       753       \n",
      "   2     |    6     | A Dance with Dragons |     12-07-2011   |  Bantam Books   |   Novela   |       1016      \n"
     ]
    }
   ],
   "source": [
    "# Autores y libros/ consulta de todos los libros pertenecientes a un autor\n",
    "\n",
    "def get_libros_por_autor(libros):\n",
    "    print(\"{:^2} | {:^2} | {:^20} | {:^10} | {:^15} | {:^10} | {:^16}\".format(\"Id Autor\",\"Id Libro\", \"Titulo\", \"Anio Publicacion\", \"Editorial\", \"Genero\", \"Cantidad paginas\", \"Id Autor\"))\n",
    "\n",
    "    print(\"\\n\")\n",
    "\n",
    "    for libro in libros:\n",
    "        print(\"{:^8} | {:^8} | {:^21}|     {:%d-%m-%Y}   | {:^15} | {:^10} | {:^16}\".format(libro.id_autor, libro.id_libro, libro.titulo, libro.anio_publicacion, libro.editorial, libro.genero, libro.catidad_paginas))\n",
    "\n",
    "libros = data.get_autor_y_libro(id_autor = 2)\n",
    "\n",
    "get_libros_por_autor(libros)\n",
    "# print(aut)"
   ]
  },
  {
   "cell_type": "code",
   "execution_count": null,
   "metadata": {},
   "outputs": [],
   "source": []
  },
  {
   "cell_type": "code",
   "execution_count": 9,
   "metadata": {},
   "outputs": [
    {
     "name": "stdout",
     "output_type": "stream",
     "text": [
      "Id Libro | Id Copia | Codigo Copia |   Estado  |\n",
      "\n",
      "\n",
      "   9     |    8     |      70      |     D     |\n",
      "   9     |    9     |      71      |     D     |\n"
     ]
    }
   ],
   "source": [
    "# Copias y libros/ consulta de todas las copias pertenecientes a un libro\n",
    "\n",
    "def get_copias_por_libros(copias):\n",
    "    print(\"{:^2} | {:^2} | {:^10} | {:^10}|\".format(\"Id Libro\", \"Id Copia\", \"Codigo Copia\", \"Estado\", \"Id Libro\"))\n",
    "\n",
    "    print(\"\\n\")\n",
    "\n",
    "    for copia in copias:\n",
    "        print(\"{:^8} | {:^8} | {:^12} | {:^10}|\".format(copia.id_libro, copia.id_copia, copia.codigo_copia, copia.estado))\n",
    "\n",
    "copias = data.get_libro_y_copia(id_libro = 9)\n",
    "\n",
    "get_copias_por_libros(copias)\n",
    "# print(aut)"
   ]
  },
  {
   "cell_type": "code",
   "execution_count": null,
   "metadata": {},
   "outputs": [],
   "source": []
  },
  {
   "cell_type": "code",
   "execution_count": 11,
   "metadata": {},
   "outputs": [
    {
     "name": "stdout",
     "output_type": "stream",
     "text": [
      "Id Cliente| Id Prestamo| Fecha Inicio Prestamo| Fecha Fin Prestamo|        Descripcion        |   Estado  \n",
      "\n",
      "\n",
      "    4     |     6      |      10-10-2021      |    15-10-2021     | Observacion sin problemas|     F     \n",
      "    4     |     7      |      01-10-2021      |    05-10-2021     | Observacion sin problemas|     F     \n",
      "    4     |     8      |      01-11-2021      |    05-11-2021     | Observacion sin problemas|     F     \n",
      "    4     |     9      |      02-11-2021      |    04-11-2021     | Observacion sin problemas|     F     \n"
     ]
    }
   ],
   "source": [
    "# Clientes y Prestamos/ consulta de todos los prestamos pertenecientes a un cliente\n",
    "\n",
    "def get_prestamo_cliente(prestamos):\n",
    "    print(\"{:^2}| {:^10}| {:^13}| {:^13}| {:^26}| {:^10}\".format(\"Id Cliente\", \"Id Prestamo\", \"Fecha Inicio Prestamo\", \"Fecha Fin Prestamo\", \"Descripcion\", \"Estado\"))\n",
    "    print(\"\\n\")\n",
    "    estado=\"------\"\n",
    "    for prestamo in prestamos:\n",
    "        \n",
    "        if(prestamo.fecha_fin_prestamo is None):\n",
    "            print(\"{:^10}| {:^10} |      {:%d-%m-%Y}      | {:^18}| {:^10}| {:^10}\".format(prestamo.id_cliente, prestamo.id_prestamo, prestamo.fecha_inicio_prestamo, estado, prestamo.descripcion, prestamo.estado, prestamo.id_cliente))\n",
    "        else:\n",
    "            print(\"{:^10}| {:^10} |      {:%d-%m-%Y}      |    {:%d-%m-%Y}     | {:^10}| {:^10}\".format(prestamo.id_cliente, prestamo.id_prestamo, prestamo.fecha_inicio_prestamo, prestamo.fecha_fin_prestamo, prestamo.descripcion, prestamo.estado))\n",
    "\n",
    "\n",
    "prestamos = data.get_cliente_y_prestamo(id_cliente = 4)\n",
    "\n",
    "get_prestamo_cliente(prestamos)"
   ]
  },
  {
   "cell_type": "code",
   "execution_count": null,
   "metadata": {},
   "outputs": [],
   "source": []
  }
 ],
 "metadata": {
  "kernelspec": {
   "display_name": "Python 3 (ipykernel)",
   "language": "python",
   "name": "python3"
  },
  "language_info": {
   "codemirror_mode": {
    "name": "ipython",
    "version": 3
   },
   "file_extension": ".py",
   "mimetype": "text/x-python",
   "name": "python",
   "nbconvert_exporter": "python",
   "pygments_lexer": "ipython3",
   "version": "3.9.7"
  }
 },
 "nbformat": 4,
 "nbformat_minor": 4
}
